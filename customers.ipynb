{
 "cells": [
  {
   "cell_type": "markdown",
   "metadata": {},
   "source": [
    "# Do contribute on [GitHub](https://github.com/Babaritech/stats)!"
   ]
  },
  {
   "cell_type": "markdown",
   "metadata": {},
   "source": [
    "## Babar3 customers statistics"
   ]
  },
  {
   "cell_type": "code",
   "execution_count": null,
   "metadata": {
    "collapsed": true
   },
   "outputs": [],
   "source": [
    "from datetime import datetime\n",
    "from decimal import Decimal\n",
    "import requests\n",
    "SERVER = 'https://babar.rezel.net/api/'\n",
    "\n",
    "def get_fullname(customer):\n",
    "    return customer['firstname'] + ' (' + customer['nickname'] + ') ' + customer['lastname']"
   ]
  },
  {
   "cell_type": "markdown",
   "metadata": {},
   "source": [
    "### Biggest customer per class"
   ]
  },
  {
   "cell_type": "code",
   "execution_count": null,
   "metadata": {
    "collapsed": false
   },
   "outputs": [],
   "source": [
    "customers = requests.get(SERVER + \"customer/\").json()\n",
    "years_max = {year:None for year in list(range(2012, datetime.now().year+4))}\n",
    "for customer in customers:\n",
    "    if customer['year'] in years_max:\n",
    "        payments  = requests.get(SERVER + \"payment/?customer=\" + str(customer['pk'])).json()\n",
    "        customer['total'] = sum([Decimal(payment['amount']) for payment in payments])\n",
    "        if years_max[customer['year']] is None or years_max[customer['year']]['total'] < customer['total']:\n",
    "            years_max[customer['year']] = customer\n",
    "        \n",
    "for year in sorted(years_max):\n",
    "    customer = years_max[year]\n",
    "    if customer is not None:\n",
    "        print(\"Biggest customer of class \" + str(year) + \" is \" + get_fullname(customer))\n",
    "        "
   ]
  }
 ],
 "metadata": {
  "kernelspec": {
   "display_name": "Python 3",
   "language": "python",
   "name": "python3"
  },
  "language_info": {
   "codemirror_mode": {
    "name": "ipython",
    "version": 3
   },
   "file_extension": ".py",
   "mimetype": "text/x-python",
   "name": "python",
   "nbconvert_exporter": "python",
   "pygments_lexer": "ipython3",
   "version": "3.5.0"
  }
 },
 "nbformat": 4,
 "nbformat_minor": 0
}
